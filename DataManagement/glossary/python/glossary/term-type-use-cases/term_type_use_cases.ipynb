{
 "cells": [
  {
   "cell_type": "markdown",
   "id": "2815b8b6-ccf5-48bb-89f8-ce3f7272887b",
   "metadata": {},
   "source": [
    "#### Term Type Use Cases\n",
    "##### Create, Read, Update, and Delete Term Types"
   ]
  },
  {
   "cell_type": "markdown",
   "id": "d56ebd52-2e12-44f3-9934-34b434884f92",
   "metadata": {},
   "source": [
    "##### Imports and Global Variables"
   ]
  },
  {
   "cell_type": "markdown",
   "id": "097e36a7-ccdc-4a74-aa44-1a239ea931d8",
   "metadata": {},
   "source": [
    "Run this cell before any of the other cells. This cell imports packages and sets variables that are used throughout the notebook."
   ]
  },
  {
   "cell_type": "code",
   "execution_count": null,
   "id": "637eaa13-6b3c-4653-bff9-ec3fc7fb6002",
   "metadata": {},
   "outputs": [],
   "source": [
    "import requests\n",
    "import json\n",
    "sasserver = \"https://your_server\"\n",
    "print (sasserver)"
   ]
  },
  {
   "cell_type": "markdown",
   "id": "a9276ca0-5b84-4b41-a253-78cf3f00f34a",
   "metadata": {},
   "source": [
    "##### Get Access token"
   ]
  },
  {
   "cell_type": "code",
   "execution_count": null,
   "id": "36ffe1cc-18b8-4fdd-bae2-8168965865c9",
   "metadata": {},
   "outputs": [],
   "source": [
    "url = sasserver + \"/SASLogon/oauth/token#password\"\n",
    "\n",
    "payload={\n",
    "    'grant_type': 'password',\n",
    "    'username': 'your_username',\n",
    "    'password': 'your_password'\n",
    "}\n",
    "files=[\n",
    "\n",
    "]\n",
    "headers = {\n",
    "  'Authorization': 'Basic c2FzLmVjOg==',\n",
    "}\n",
    "\n",
    "\n",
    "response = requests.request(\"POST\", url, headers=headers, data=payload, files=files, verify=False)\n",
    "if response.status_code == 200:\n",
    "    print(\"Successfully authenticated\")\n",
    " \n",
    "    response = response.json()\n",
    "    access_token = response[\"access_token\"]\n",
    "else:\n",
    "    print(\n",
    "        f\"Error. Here is the response:\\n{json.dumps(response.json(), indent=2)}\")"
   ]
  },
  {
   "cell_type": "markdown",
   "id": "e876f660-4811-4964-b9fc-173bcbf4d3f3",
   "metadata": {},
   "source": [
    "##### Create a term type"
   ]
  },
  {
   "cell_type": "markdown",
   "id": "2e0ecd4b-ecaa-4d66-a62f-24cb1677cb21",
   "metadata": {},
   "source": [
    "- Create a term type.\n",
    "- Specify appropriate name, label, description, and custom attributes if necessary. \n"
   ]
  },
  {
   "cell_type": "code",
   "execution_count": null,
   "id": "a0b96ed0-1007-4ff3-9238-5aa17247b9f5",
   "metadata": {},
   "outputs": [],
   "source": [
    "url = sasserver + \"/glossary/termTypes\"\n",
    " \n",
    "payload = json.dumps({\n",
    "  \"name\": \"Example Term Type\",\n",
    "  \"description\": \"Example Term Type with all attribute values populated.\",\n",
    "  \"label\": \"Example Term Type\",\n",
    "  \"attributes\": [\n",
    "    {\n",
    "      \"name\": \"singleLineTextAttribute\",\n",
    "      \"label\": \"A single-line text attribute\",\n",
    "      \"description\": \"This is a description of the attribute. Single-line text attributes can be up to 4000 characters long and cannot contain newline characters.\",\n",
    "      \"required\": True,\n",
    "      \"type\": \"single-line\",\n",
    "      \"defaultValue\": \"This is an example of a single-line text attribute.\"\n",
    "    },\n",
    "    {\n",
    "      \"name\": \"multiLineTextAttribute\",\n",
    "      \"label\": \"A multi-line text attribute\",\n",
    "      \"description\": \"Multi-line text attributes can be up to 4000 characters.  Newline characters are allowed.\",\n",
    "      \"type\": \"multi-line\",\n",
    "      \"defaultValue\": \"This is an example of a multi-line text attribute\\\\nwith\\\\nnewline\\\\ncharacters.\"\n",
    "    },\n",
    "    {\n",
    "      \"name\": \"booleanAttribute\",\n",
    "      \"label\": \"A boolean attribute\",\n",
    "      \"description\": \"Boolean attributes can be either \\\"true\\\" or \\\"false\\\".\",\n",
    "      \"type\": \"boolean\",\n",
    "      \"defaultValue\": \"true\"\n",
    "    },\n",
    "    {\n",
    "      \"name\": \"dateAttribute\",\n",
    "      \"label\": \"A date attribute\",\n",
    "      \"description\": \"Date attributes should be specified with the format \\\"YYYY-MM-DD\\\".\",\n",
    "      \"type\": \"date\"\n",
    "    },\n",
    "    {\n",
    "      \"name\": \"timeAttribute\",\n",
    "      \"label\": \"A time attribute\",\n",
    "      \"description\": \"Time attributes should be specified with the format \\\"hh:mm:ssZ\\\".\",\n",
    "      \"type\": \"time\",\n",
    "      \"defaultValue\": \"10:23:45Z\"\n",
    "    },\n",
    "    {\n",
    "      \"name\": \"dateTimeAttribute\",\n",
    "      \"label\": \"A date-time attribute\",\n",
    "      \"description\": \"Date-time attributes should be specified with the format \\\"YYYY-MM-DDThh:mm:ssZ\\\".\",\n",
    "      \"type\": \"date-time\",\n",
    "      \"defaultValue\": \"2024-02-12T10:23:45.000Z\"\n",
    "    },\n",
    "    {\n",
    "      \"name\": \"singleSelectAttribute\",\n",
    "      \"label\": \"A single-select attribute\",\n",
    "      \"description\": \"Single-select attributes must specify at least one item in the \\\"items\\\" field.\",\n",
    "      \"type\": \"single-select\",\n",
    "      \"items\": [\n",
    "        \"Item 1\",\n",
    "        \"Item 2\",\n",
    "        \"Item 3\"\n",
    "      ],\n",
    "      \"defaultValue\": \"Item 1\"\n",
    "    }\n",
    "  ]\n",
    "})\n",
    " \n",
    "headers = {\n",
    "  'Content-Type': 'application/vnd.sas.glossary.term.type+json',\n",
    "  'Authorization': 'Bearer ' + access_token\n",
    "}\n",
    " \n",
    "response = requests.request(\"POST\", url, headers=headers, data=payload, verify=False)\n",
    "if response.status_code == 201:\n",
    "    e_tag = response.headers[\"ETag\"]\n",
    "    term_type_id =response.json()['id']\n",
    "    print(term_type_id)\n",
    "    print(\n",
    "        f\"Successfully created term type:\\n{json.dumps(response.json(), indent=2)}\")\n",
    "else:\n",
    "    print(\n",
    "        f\"Error. Here is the response:\\n{json.dumps(response.json(), indent=2)}\")\n"
   ]
  },
  {
   "cell_type": "markdown",
   "id": "924469f3-39b3-47bb-97ea-e977624465cf",
   "metadata": {},
   "source": [
    "##### Get Term Type by ID\n",
    "- Get the created term type by specifying its ID. "
   ]
  },
  {
   "cell_type": "code",
   "execution_count": null,
   "id": "5055b8aa-e71f-4de8-887e-c1820b2ed62e",
   "metadata": {},
   "outputs": [],
   "source": [
    "url = sasserver + f\"/glossary/termTypes/{term_type_id}\"\n",
    "payload = {}\n",
    "headers = {\n",
    "  'Accept': 'application/vnd.sas.glossary.term.type+json',\n",
    "  'Authorization': 'Bearer ' + access_token\n",
    "}\n",
    "\n",
    "response = requests.request(\"GET\", url, headers=headers, data=payload, verify=False)\n",
    "if response.status_code == 200:\n",
    "    e_tag = response.headers[\"ETag\"]\n",
    "    print(\n",
    "        f\"{json.dumps(response.json(), indent=2)}\")\n",
    "else:\n",
    "    print(\n",
    "        f\"Error. Here is the response:\\n{json.dumps(response.json(), indent=2)}\")"
   ]
  },
  {
   "cell_type": "markdown",
   "id": "a0368897-182f-4448-8c05-c496baaaba68",
   "metadata": {},
   "source": [
    "##### Get Term Types with a Filter\n",
    "- Get the created term types using a filter. Use the filter parameter to retrieve the term types. Term types can be filtered by their name. "
   ]
  },
  {
   "cell_type": "code",
   "execution_count": null,
   "id": "38d0e191-4eb9-4e67-bd3c-f368fa904a3f",
   "metadata": {},
   "outputs": [],
   "source": [
    "url = sasserver + \"/glossary/termTypes?filter=contains(name,'Example Term Type')\"\n",
    "\n",
    "payload = {}\n",
    "headers = {\n",
    "  'Accept': 'application/vnd.sas.collection+json',\n",
    "  'Accept-Item': 'application/vnd.sas.glossary.term.type+json',\n",
    "  'Authorization': 'Bearer ' + access_token\n",
    "}\n",
    "\n",
    "response = requests.request(\"GET\", url, headers=headers, data=payload, verify=False)\n",
    "if response.status_code == 200:\n",
    "    print(\n",
    "        f\"{json.dumps(response.json(), indent=2)}\")\n",
    "else:\n",
    "    print(\n",
    "        f\"Error. Here is the response:\\n{json.dumps(response.json(), indent=2)}\")"
   ]
  },
  {
   "cell_type": "markdown",
   "id": "748bf9e5-af94-4669-b095-f7ebf07ff0be",
   "metadata": {},
   "source": [
    "##### Update Term Type\n",
    "- Updates can be applied to the name, description, or label fields. Additionally, attributes' default values; required or hidden status; and edits the name, label, or description can be changed."
   ]
  },
  {
   "cell_type": "code",
   "execution_count": null,
   "id": "f99d6ff1-1d93-4c9a-b966-018b20e5a261",
   "metadata": {},
   "outputs": [],
   "source": [
    "url = sasserver + f\"/glossary/termTypes/{term_type_id}\"\n",
    "payload = json.dumps({\n",
    "  \"id\": f\"{term_type_id}\",\n",
    "  \"name\": \"Updated Term Type\",\n",
    "  \"description\": \"Updated Term Type\",\n",
    "  \"label\": \"updatedTermType\",\n",
    "  \"attributes\": [\n",
    "    {\n",
    "      \"name\": \"singleLineAttribute\",\n",
    "      \"label\": \"Single line attribute\",\n",
    "      \"description\": \"A single-line attribute with a narrow input field.\",\n",
    "      \"required\": True,\n",
    "      \"hidden\": False,\n",
    "      \"type\": \"single-line\",\n",
    "      \"editorOptions\": {\n",
    "        \"width\": \"small\"\n",
    "      }\n",
    "    }\n",
    "  ]\n",
    "})\n",
    "headers = {\n",
    "  'Accept': 'application/vnd.sas.glossary.term.type+json',\n",
    "  'Content-Type': 'application/vnd.sas.glossary.term.type+json',\n",
    "  'If-Match': e_tag,\n",
    "  'Authorization': 'Bearer ' + access_token\n",
    "}\n",
    "\n",
    "response = requests.request(\"PUT\", url, headers=headers, data=payload, verify=False)\n",
    "if response.status_code == 200:\n",
    "    e_tag = response.headers[\"ETag\"]\n",
    "    print(\n",
    "        f\"Successfully updated term type:\\n{json.dumps(response.json(), indent=2)}\")\n",
    "else:\n",
    "    print(\n",
    "        f\"Error. Here is the response:\\n{json.dumps(response.json(), indent=2)}\")"
   ]
  },
  {
   "cell_type": "markdown",
   "id": "2ad5ab21-7814-485f-84ed-faab09f707a1",
   "metadata": {},
   "source": [
    "##### Delete Term Types by ID"
   ]
  },
  {
   "cell_type": "code",
   "execution_count": null,
   "id": "c9752709-4611-45c9-ab75-785a333fe193",
   "metadata": {},
   "outputs": [],
   "source": [
    "url = sasserver + f\"/glossary/termTypes/{term_type_id}\"\n",
    "payload = {}\n",
    "headers = {\n",
    "  'Accept': 'application/vnd.sas.glossary.term.type+json',\n",
    "  'Authorization': 'Bearer ' + access_token\n",
    "}\n",
    "\n",
    "response = requests.request(\"DELETE\", url, headers=headers, data=payload, verify=False)\n",
    "if response.status_code == 204:\n",
    "    print(\"Successfully deleted term type\")\n",
    "else:\n",
    "    print(\n",
    "        f\"Error deleting term type \\n{response}\")"
   ]
  }
 ],
 "metadata": {
  "kernelspec": {
   "display_name": "Python 3 (ipykernel)",
   "language": "python",
   "name": "python3"
  },
  "language_info": {
   "codemirror_mode": {
    "name": "ipython",
    "version": 3
   },
   "file_extension": ".py",
   "mimetype": "text/x-python",
   "name": "python",
   "nbconvert_exporter": "python",
   "pygments_lexer": "ipython3",
   "version": "3.11.9"
  }
 },
 "nbformat": 4,
 "nbformat_minor": 5
}
